{
    "cells": [
        {
            "metadata": {},
            "cell_type": "markdown",
            "source": "### This notebook was created as a requirement of the Applied Data Science Capstone peer graded assignment "
        },
        {
            "metadata": {},
            "cell_type": "markdown",
            "source": "#### Import the required libraries "
        },
        {
            "metadata": {
                "collapsed": true
            },
            "cell_type": "code",
            "source": "import pandas as pd\nimport numpy as np",
            "execution_count": 2,
            "outputs": []
        },
        {
            "metadata": {},
            "cell_type": "markdown",
            "source": "Print the following the statement: Hello Capstone Project Course!"
        },
        {
            "metadata": {},
            "cell_type": "code",
            "source": "print(\"Hello Capstone Project Course!\")",
            "execution_count": 3,
            "outputs": [
                {
                    "name": "stdout",
                    "output_type": "stream",
                    "text": "Hello Capstone Project Course!\n"
                }
            ]
        }
    ],
    "metadata": {
        "kernelspec": {
            "name": "python3",
            "display_name": "Python 3.6",
            "language": "python"
        },
        "language_info": {
            "codemirror_mode": {
                "name": "ipython",
                "version": 3
            },
            "file_extension": ".py",
            "mimetype": "text/x-python",
            "name": "python",
            "nbconvert_exporter": "python",
            "pygments_lexer": "ipython3",
            "version": "3.6.8"
        }
    },
    "nbformat": 4,
    "nbformat_minor": 2
}